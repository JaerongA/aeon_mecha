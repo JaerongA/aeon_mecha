{
 "cells": [
  {
   "cell_type": "markdown",
   "metadata": {},
   "source": [
    "# Getting started\n",
    "\n",
    "## One time setup \n",
    "\n",
    "You should have cloned the `aeon_mecha_de` folder as follows:\n",
    "\n",
    "```\n",
    "cd \n",
    "mkdir repos\n",
    "cd repos\n",
    "git clone https://gitlab.com/sainsbury-wellcome-centre/delab/arena/aeon_mecha_de.git\n",
    "```\n",
    "\n",
    "You should also have [installed Miniconda](https://docs.conda.io/en/latest/miniconda.html) or Anaconda.\n",
    "\n",
    "You know this is successful if you can run `conda env list` without any errors and see a list of environments.\n",
    "\n",
    "It is highly recommended to install [mamba](https://mamba.readthedocs.io/en/latest/) as follows:\n",
    "\n",
    "`conda install mamba -n base -c conda-forge`\n",
    "\n",
    "Then, you can set up your development / analysis envirment as follows:\n",
    "\n",
    "```\n",
    "cd ~/repos/aeon_mecha_de\n",
    "mamba env create -f env.yml\n",
    "```\n",
    "\n",
    "Once this is all finished you should be ready to go!"
   ]
  },
  {
   "cell_type": "markdown",
   "metadata": {},
   "source": [
    "### Adding aeon to the path\n",
    "\n",
    "Each time you want to work on the project you need to activate your environment:\n",
    "\n",
    "`conda activate aeon_env`\n",
    "\n",
    "But this doesn't add the `aeon` code itself to the path. You can do it in a few ways, but the following code block does it for you."
   ]
  },
  {
   "cell_type": "code",
   "execution_count": null,
   "metadata": {},
   "outputs": [],
   "source": [
    "import sys\n",
    "from os.path import expanduser\n",
    "# As long as you have cloned the aeon_mecha_de folder into \n",
    "# repos in your home filter\n",
    "sys.path.append(expanduser('~/repos/aeon_mecha_de'))\n",
    "\n",
    "# This path is only true if you are on pop.erlichlab.org\n",
    "dataroot = '/var/www/html/delab/data/arena0.1/socialexperiment0/'\n",
    "figpath = '/var/www/html/delab/figures/'"
   ]
  },
  {
   "cell_type": "code",
   "execution_count": null,
   "metadata": {},
   "outputs": [],
   "source": [
    "# import aeon.util.helpers as helpers\n",
    "import numpy as np\n",
    "import pandas as pd\n",
    "import aeon.analyze.patches as patches\n",
    "import os \n",
    "import aeon.preprocess.api as api\n",
    "import matplotlib.pyplot as plt"
   ]
  },
  {
   "cell_type": "code",
   "execution_count": null,
   "metadata": {},
   "outputs": [],
   "source": [
    "%reload_ext autoreload\n",
    "%autoreload 1\n",
    "%aimport aeon.util.helpers \n",
    "%aimport aeon.util.plotting \n",
    "helpers = aeon.util.helpers\n",
    "plotting = aeon.util.plotting"
   ]
  },
  {
   "cell_type": "code",
   "execution_count": null,
   "metadata": {},
   "outputs": [],
   "source": [
    "sessdf = api.sessiondata(dataroot)\n",
    "sessdf = api.sessionduration(sessdf)                                     # compute session duration\n",
    "sessdf = sessdf[~sessdf.id.str.contains('test')]\n",
    "sessdf = sessdf[~sessdf.id.str.contains('jeff')]\n",
    "sessdf = sessdf[~sessdf.id.str.contains('OAA')]\n",
    "sessdf = sessdf[~sessdf.id.str.contains('rew')]\n",
    "sessdf = sessdf[~sessdf.id.str.contains('Animal')]\n",
    "\n",
    "sessdf.reset_index(inplace=True, drop=True)"
   ]
  },
  {
   "cell_type": "markdown",
   "metadata": {},
   "source": [
    "## Fix the bad data"
   ]
  },
  {
   "cell_type": "code",
   "execution_count": null,
   "metadata": {},
   "outputs": [],
   "source": [
    "df = sessdf.copy()\n",
    "helpers.merge(df)\n",
    "helpers.merge(df,first=[15])\n",
    "helpers.merge(df,first=[32,35], merge_id=True)\n",
    "helpers.markSessionEnded(df)\n",
    "#df.loc[4,'end'] = df.loc[4,'start'] + pd.DateOffset(minutes=100)\n",
    "#df.loc[[19,32,34],'end'] = df.loc[[19,32,34],'start'] + pd.DateOffset(minutes=150)\n",
    "\n",
    "#df.duration = df.end - df.start\n",
    "# df "
   ]
  },
  {
   "cell_type": "code",
   "execution_count": null,
   "metadata": {},
   "outputs": [],
   "source": [
    "session_list = df.itertuples()"
   ]
  },
  {
   "cell_type": "code",
   "execution_count": null,
   "metadata": {},
   "outputs": [],
   "source": [
    "session = next(session_list)\n",
    "session"
   ]
  },
  {
   "cell_type": "code",
   "execution_count": null,
   "metadata": {},
   "outputs": [],
   "source": [
    "for session in session_list:\n",
    "    try:\n",
    "        meta = {'session':session}\n",
    "        filename = plotting.plotFileName(os.path.join(figpath,'patch'), 'patch', meta)\n",
    "        if not os.path.exists(filename):\n",
    "            data = helpers.getWheelData(dataroot, session.start, session.end)\n",
    "            data['meta'] = meta\n",
    "            data['filename'] = filename\n",
    "            fig = plotting.plotWheelData(**data)\n",
    "        else:\n",
    "            print(f'{filename} exists. Skipping.')\n",
    "    except IndexError as e:\n",
    "        print(e)"
   ]
  },
  {
   "cell_type": "code",
   "execution_count": null,
   "metadata": {},
   "outputs": [],
   "source": [
    "start, end, sdf = helpers.splitOnStateChange(dataroot, session.start, session.end)\n",
    "start, end, sdf"
   ]
  },
  {
   "cell_type": "code",
   "execution_count": null,
   "metadata": {},
   "outputs": [],
   "source": [
    "posdata = helpers.getPositionData(dataroot, start,end)"
   ]
  },
  {
   "cell_type": "code",
   "execution_count": null,
   "metadata": {},
   "outputs": [],
   "source": [
    "before = helpers.getPositionData(dataroot, start[0], end[0])\n",
    "after = helpers.getPositionData(dataroot,start[1], start[1] + pd.DateOffset(minutes=30) )"
   ]
  },
  {
   "cell_type": "code",
   "execution_count": null,
   "metadata": {},
   "outputs": [],
   "source": [
    "before['title_str'] = f'{session.id}, {start[0]:%m/%d %H:%M}-{end[0]:%H:%M}'\n",
    "fig, ax = plotting.positionmap(**before, bins=200,vmin=.01,vmax=10)\n",
    "fig.patch.set_facecolor('white')\n",
    "fig.savefig(f\"/www-delab/figures/posmap/{session.id.replace(';','')}_{start[0]:%m%d}_pos_before.png\", dpi=400)\n",
    "\n"
   ]
  },
  {
   "cell_type": "code",
   "execution_count": null,
   "metadata": {},
   "outputs": [],
   "source": [
    "session.id.replace(';','')"
   ]
  },
  {
   "cell_type": "code",
   "execution_count": null,
   "metadata": {},
   "outputs": [],
   "source": [
    "after['title_str'] = f'{session.id}, {start[1]:%m/%d %H:%M}-{start[1] + pd.DateOffset(minutes=30):%H:%M}'\n",
    "fig, ax = plotting.positionmap(**after, bins=200,vmin=.01,vmax=10)\n",
    "fig.patch.set_facecolor('white')\n",
    "fig.savefig(f\"/www-delab/figures/posmap/{session.id.replace(';','')}_{start[0]:%m%d}_pos_after.png\", dpi=400)\n"
   ]
  },
  {
   "cell_type": "code",
   "execution_count": null,
   "metadata": {},
   "outputs": [],
   "source": []
  }
 ],
 "metadata": {
  "interpreter": {
   "hash": "0f0d090e3d02cac0f5ff5666064f966a1135a0ea114cdfbb6336234d8c0d9132"
  },
  "kernelspec": {
   "display_name": "Python 3.9.7 64-bit ('aeon_env': conda)",
   "language": "python",
   "name": "python3"
  },
  "language_info": {
   "codemirror_mode": {
    "name": "ipython",
    "version": 3
   },
   "file_extension": ".py",
   "mimetype": "text/x-python",
   "name": "python",
   "nbconvert_exporter": "python",
   "pygments_lexer": "ipython3",
   "version": "3.9.7"
  },
  "orig_nbformat": 4
 },
 "nbformat": 4,
 "nbformat_minor": 2
}
