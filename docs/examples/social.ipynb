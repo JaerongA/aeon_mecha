{
 "cells": [
  {
   "cell_type": "markdown",
   "metadata": {},
   "source": [
    "# Getting started\n",
    "\n",
    "## One time setup \n",
    "\n",
    "You should have cloned the `aeon_mecha_de` folder as follows:\n",
    "\n",
    "```\n",
    "cd \n",
    "mkdir repos\n",
    "cd repos\n",
    "git clone https://gitlab.com/sainsbury-wellcome-centre/delab/arena/aeon_mecha_de.git\n",
    "```\n",
    "\n",
    "You should also have [installed Miniconda](https://docs.conda.io/en/latest/miniconda.html) or Anaconda.\n",
    "\n",
    "You know this is successful if you can run `conda env list` without any errors and see a list of environments.\n",
    "\n",
    "It is highly recommended to install [mamba](https://mamba.readthedocs.io/en/latest/) as follows:\n",
    "\n",
    "`conda install mamba -n base -c conda-forge`\n",
    "\n",
    "Then, you can set up your development / analysis envirment as follows:\n",
    "\n",
    "```\n",
    "cd ~/repos/aeon_mecha_de\n",
    "mamba env create -f env.yml\n",
    "```\n",
    "\n",
    "Once this is all finished you should be ready to go!"
   ]
  },
  {
   "cell_type": "markdown",
   "metadata": {},
   "source": [
    "### Adding aeon to the path\n",
    "\n",
    "Each time you want to work on the project you need to activate your environment:\n",
    "\n",
    "`conda activate aeon_env`\n",
    "\n",
    "But this doesn't add the `aeon` code itself to the path. You can do it in a few ways, but the following code block does it for you."
   ]
  },
  {
   "cell_type": "code",
   "execution_count": 3,
   "metadata": {},
   "outputs": [],
   "source": [
    "import sys\n",
    "from os.path import expanduser\n",
    "# As long as you have cloned the aeon_mecha_de folder into \n",
    "# repos in your home filter\n",
    "sys.path.append(expanduser('~/repos/aeon_mecha_de'))\n",
    "\n",
    "# This path is only true if you are on pop.erlichlab.org\n",
    "dataroot = '/var/www/html/delab/data/arena0.1/socialexperiment0/'"
   ]
  },
  {
   "cell_type": "code",
   "execution_count": 4,
   "metadata": {},
   "outputs": [],
   "source": [
    "# import aeon.util.helpers as helpers\n",
    "import numpy as np\n",
    "import pandas as pd\n",
    "import aeon.analyze.patches as patches\n",
    " \n",
    "import aeon.preprocess.api as api\n",
    "import matplotlib.pyplot as plt"
   ]
  },
  {
   "cell_type": "code",
   "execution_count": 82,
   "metadata": {},
   "outputs": [],
   "source": [
    "%reload_ext autoreload\n",
    "%autoreload 1\n",
    "%aimport aeon.util.helpers \n",
    "%aimport aeon.util.plotting \n",
    "helpers = aeon.util.helpers\n",
    "plotting = aeon.util.plotting"
   ]
  },
  {
   "cell_type": "code",
   "execution_count": 10,
   "metadata": {},
   "outputs": [],
   "source": [
    "sessdf = api.sessiondata(dataroot)\n",
    "sessdf = api.sessionduration(sessdf)                                     # compute session duration\n",
    "sessdf = sessdf[~sessdf.id.str.contains('test')]\n",
    "sessdf = sessdf[~sessdf.id.str.contains('jeff')]\n",
    "sessdf = sessdf[~sessdf.id.str.contains('OAA')]\n",
    "sessdf = sessdf[~sessdf.id.str.contains('rew')]\n",
    "sessdf.reset_index(inplace=True, drop=True)"
   ]
  },
  {
   "cell_type": "markdown",
   "metadata": {},
   "source": [
    "## Fix the bad data"
   ]
  },
  {
   "cell_type": "code",
   "execution_count": 11,
   "metadata": {},
   "outputs": [],
   "source": [
    "df = sessdf.copy()\n",
    "helpers.merge(df)\n",
    "helpers.merge(df,first=[15])\n",
    "helpers.merge(df,first=[32,35], merge_id=True)\n",
    "\n",
    "df.loc[4,'end'] = df.loc[4,'start'] + pd.DateOffset(minutes=100)\n",
    "df.loc[[19,32,34],'end'] = df.loc[[19,32,34],'start'] + pd.DateOffset(minutes=150)\n",
    "\n",
    "df.duration = df.end - df.start\n",
    "# df "
   ]
  },
  {
   "cell_type": "code",
   "execution_count": 12,
   "metadata": {},
   "outputs": [],
   "source": [
    "session_list = df.itertuples()"
   ]
  },
  {
   "cell_type": "code",
   "execution_count": 51,
   "metadata": {},
   "outputs": [
    {
     "data": {
      "text/plain": [
       "Pandas(Index=14, id='BAA-1100706', weight_start=24.8, weight_end=24.8, start=Timestamp('2021-12-06 15:49:58.048900127'), end=Timestamp('2021-12-06 16:55:18.636509895'), duration=Timedelta('0 days 01:05:20.587609768'))"
      ]
     },
     "execution_count": 51,
     "metadata": {},
     "output_type": "execute_result"
    }
   ],
   "source": [
    "session = next(session_list)\n",
    "session"
   ]
  },
  {
   "cell_type": "code",
   "execution_count": 102,
   "metadata": {},
   "outputs": [
    {
     "data": {
      "text/plain": [
       "pandas._libs.tslibs.timestamps.Timestamp"
      ]
     },
     "execution_count": 102,
     "metadata": {},
     "output_type": "execute_result"
    }
   ],
   "source": [
    "type(session.start)"
   ]
  },
  {
   "cell_type": "code",
   "execution_count": 101,
   "metadata": {},
   "outputs": [
    {
     "name": "stdout",
     "output_type": "stream",
     "text": [
      "(26, 3) (53, 3) (79, 3)\n"
     ]
    },
    {
     "ename": "TypeError",
     "evalue": "can only concatenate list (not \"DatetimeIndex\") to list",
     "output_type": "error",
     "traceback": [
      "\u001b[0;31m---------------------------------------------------------------------------\u001b[0m",
      "\u001b[0;31mTypeError\u001b[0m                                 Traceback (most recent call last)",
      "\u001b[0;32m/tmp/ipykernel_821095/1054276555.py\u001b[0m in \u001b[0;36m<module>\u001b[0;34m\u001b[0m\n\u001b[0;32m----> 1\u001b[0;31m \u001b[0mstartTS\u001b[0m \u001b[0;34m=\u001b[0m \u001b[0mhelpers\u001b[0m\u001b[0;34m.\u001b[0m\u001b[0msplitOnStateChange\u001b[0m\u001b[0;34m(\u001b[0m\u001b[0mdataroot\u001b[0m\u001b[0;34m,\u001b[0m \u001b[0msession\u001b[0m\u001b[0;34m.\u001b[0m\u001b[0mstart\u001b[0m\u001b[0;34m,\u001b[0m \u001b[0msession\u001b[0m\u001b[0;34m.\u001b[0m\u001b[0mend\u001b[0m\u001b[0;34m)\u001b[0m\u001b[0;34m\u001b[0m\u001b[0;34m\u001b[0m\u001b[0m\n\u001b[0m",
      "\u001b[0;32m~/repos/aeon_mecha_de/aeon/util/helpers.py\u001b[0m in \u001b[0;36msplitOnStateChange\u001b[0;34m(root, start, end)\u001b[0m\n\u001b[1;32m     33\u001b[0m     \u001b[0;31m#    return [start,],[end,]\u001b[0m\u001b[0;34m\u001b[0m\u001b[0;34m\u001b[0m\u001b[0m\n\u001b[1;32m     34\u001b[0m \u001b[0;34m\u001b[0m\u001b[0m\n\u001b[0;32m---> 35\u001b[0;31m     \u001b[0mstartts\u001b[0m \u001b[0;34m=\u001b[0m \u001b[0;34m[\u001b[0m\u001b[0mstart\u001b[0m\u001b[0;34m,\u001b[0m\u001b[0;34m]\u001b[0m \u001b[0;34m+\u001b[0m \u001b[0mstates\u001b[0m\u001b[0;34m.\u001b[0m\u001b[0mindex\u001b[0m\u001b[0;34m[\u001b[0m\u001b[0mswitchind\u001b[0m\u001b[0;34m]\u001b[0m\u001b[0;34m\u001b[0m\u001b[0;34m\u001b[0m\u001b[0m\n\u001b[0m\u001b[1;32m     36\u001b[0m     \u001b[0mendts\u001b[0m \u001b[0;34m=\u001b[0m \u001b[0mstates\u001b[0m\u001b[0;34m.\u001b[0m\u001b[0mindex\u001b[0m\u001b[0;34m[\u001b[0m\u001b[0mswitchind\u001b[0m\u001b[0;34m]\u001b[0m \u001b[0;34m+\u001b[0m \u001b[0;34m[\u001b[0m\u001b[0mend\u001b[0m\u001b[0;34m,\u001b[0m\u001b[0;34m]\u001b[0m\u001b[0;34m\u001b[0m\u001b[0;34m\u001b[0m\u001b[0m\n\u001b[1;32m     37\u001b[0m \u001b[0;34m\u001b[0m\u001b[0m\n",
      "\u001b[0;31mTypeError\u001b[0m: can only concatenate list (not \"DatetimeIndex\") to list"
     ]
    }
   ],
   "source": [
    "startTS = helpers.splitOnStateChange(dataroot, session.start, session.end)\n"
   ]
  },
  {
   "cell_type": "code",
   "execution_count": 130,
   "metadata": {},
   "outputs": [
    {
     "data": {
      "text/plain": [
       "[Timestamp('2021-12-06 15:50:56.243999958'),\n",
       " Timestamp('2021-12-06 15:49:58.048900127')]"
      ]
     },
     "execution_count": 130,
     "metadata": {},
     "output_type": "execute_result"
    }
   ],
   "source": [
    "[startTS[1].index[1], session.start]"
   ]
  },
  {
   "cell_type": "code",
   "execution_count": 74,
   "metadata": {},
   "outputs": [
    {
     "data": {
      "text/plain": [
       "array([23])"
      ]
     },
     "execution_count": 74,
     "metadata": {},
     "output_type": "execute_result"
    }
   ],
   "source": [
    "switchind = np.diff(startTS.threshold).nonzero()[0]\n",
    "switchind + 1\n"
   ]
  },
  {
   "cell_type": "code",
   "execution_count": 78,
   "metadata": {},
   "outputs": [
    {
     "data": {
      "text/plain": [
       "DatetimeIndex(['2021-12-06 15:49:58.096000195',\n",
       "               '2021-12-06 15:51:13.171999931',\n",
       "               '2021-12-06 15:51:24.203999996',\n",
       "               '2021-12-06 15:53:05.288000107',\n",
       "               '2021-12-06 15:53:16.291999817',\n",
       "               '2021-12-06 15:53:24.855999947',\n",
       "               '2021-12-06 15:53:35.760000229',\n",
       "               '2021-12-06 15:55:28.325980186',\n",
       "               '2021-12-06 15:55:38.960000038',\n",
       "               '2021-12-06 15:55:50.383999825',\n",
       "               '2021-12-06 15:56:00.533979893',\n",
       "               '2021-12-06 15:56:12.880000114',\n",
       "               '2021-12-06 15:56:22.340000153',\n",
       "               '2021-12-06 15:58:13.197979927',\n",
       "               '2021-12-06 15:58:27.313980103',\n",
       "               '2021-12-06 15:59:03.791999817',\n",
       "               '2021-12-06 16:01:43.256000041',\n",
       "               '2021-12-06 16:01:56.107999802',\n",
       "               '2021-12-06 16:07:13.817979813',\n",
       "               '2021-12-06 16:07:26.581980228',\n",
       "               '2021-12-06 16:07:37.633979797',\n",
       "               '2021-12-06 16:07:51.245979786',\n",
       "               '2021-12-06 16:08:04.535999774',\n",
       "               '2021-12-06 16:13:07.659999847',\n",
       "               '2021-12-06 16:18:37.015999794',\n",
       "               '2021-12-06 16:40:47.096000195'],\n",
       "              dtype='datetime64[ns]', name='time', freq=None)"
      ]
     },
     "execution_count": 78,
     "metadata": {},
     "output_type": "execute_result"
    }
   ],
   "source": [
    "startTS.index"
   ]
  },
  {
   "cell_type": "code",
   "execution_count": 108,
   "metadata": {},
   "outputs": [],
   "source": [
    "startTS, endTS = splitOnStateChange(dataroot, session.start, session.ed)\n",
    "before = helpers.getPositionData(dataroot, session.start, session.end)\n",
    "after = helpers.getPositionData(dataroot, )"
   ]
  },
  {
   "cell_type": "code",
   "execution_count": 115,
   "metadata": {},
   "outputs": [
    {
     "data": {
      "image/png": "[encoded data removed]",
      "text/plain": [
       "<Figure size 432x288 with 2 Axes>"
      ]
     },
     "metadata": {
      "needs_background": "light"
     },
     "output_type": "display_data"
    }
   ],
   "source": [
    "pData['title_str'] = f'{session.id}, {session.start:%m/%d %H:%M}'\n",
    "fix, ax = plotting.positionmap(**pData)"
   ]
  },
  {
   "cell_type": "code",
   "execution_count": null,
   "metadata": {},
   "outputs": [],
   "source": []
  }
 ],
 "metadata": {
  "interpreter": {
   "hash": "0f0d090e3d02cac0f5ff5666064f966a1135a0ea114cdfbb6336234d8c0d9132"
  },
  "kernelspec": {
   "display_name": "Python 3.9.7 64-bit ('aeon_env': conda)",
   "language": "python",
   "name": "python3"
  },
  "language_info": {
   "codemirror_mode": {
    "name": "ipython",
    "version": 3
   },
   "file_extension": ".py",
   "mimetype": "text/x-python",
   "name": "python",
   "nbconvert_exporter": "python",
   "pygments_lexer": "ipython3",
   "version": "3.9.7"
  },
  "orig_nbformat": 4
 },
 "nbformat": 4,
 "nbformat_minor": 2
}
