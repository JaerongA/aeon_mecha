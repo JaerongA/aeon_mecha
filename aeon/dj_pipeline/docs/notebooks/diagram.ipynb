{
 "cells": [
  {
   "cell_type": "code",
   "execution_count": 1,
   "source": [
    "import datajoint as dj"
   ],
   "outputs": [],
   "metadata": {}
  },
  {
   "cell_type": "code",
   "execution_count": 2,
   "source": [
    "_db_prefix = 'aeon_'\n",
    "\n",
    "acquisition = dj.create_virtual_module(\"acquisition\", _db_prefix + \"acquisition\")\n",
    "analysis = dj.create_virtual_module(\"analysis\", _db_prefix + \"analysis\")\n",
    "lab = dj.create_virtual_module(\"lab\", _db_prefix + \"lab\")\n",
    "subject = dj.create_virtual_module(\"subject\", _db_prefix + \"subject\")\n",
    "tracking = dj.create_virtual_module(\"tracking\", _db_prefix + \"tracking\")"
   ],
   "outputs": [
    {
     "output_type": "stream",
     "name": "stdout",
     "text": [
      "Connecting jburling@localhost:3306\n"
     ]
    }
   ],
   "metadata": {}
  },
  {
   "cell_type": "code",
   "execution_count": 3,
   "source": [
    "lab.schema.spawn_missing_classes()\n",
    "subject.schema.spawn_missing_classes()\n",
    "acquisition.schema.spawn_missing_classes()\n",
    "tracking.schema.spawn_missing_classes()\n",
    "analysis.schema.spawn_missing_classes()"
   ],
   "outputs": [],
   "metadata": {}
  },
  {
   "cell_type": "code",
   "execution_count": 5,
   "source": [
    "diagram = (\n",
    "    dj.Diagram(acquisition.Session)\n",
    "    + lab.Arena\n",
    "    + lab.FoodPatch\n",
    "    + lab.Camera\n",
    "    + acquisition.ExperimentCamera\n",
    "    + acquisition.FoodPatchEvent\n",
    "    + acquisition.FoodPatchWheel\n",
    "    + acquisition.Experiment\n",
    "    + tracking.SubjectPosition\n",
    "    + analysis.SessionTimeDistribution\n",
    "    + analysis.SessionSummary\n",
    ")\n",
    "\n",
    "diagram"
   ],
   "outputs": [
    {
     "output_type": "execute_result",
     "data": {
      "text/plain": [
       "<datajoint.diagram.Diagram at 0x105fe9fd0>"
      ],
      "image/svg+xml": "<svg xmlns=\"http://www.w3.org/2000/svg\" xmlns:xlink=\"http://www.w3.org/1999/xlink\" width=\"693pt\" height=\"389pt\" viewBox=\"0.00 0.00 692.50 389.00\">\n<g id=\"graph0\" class=\"graph\" transform=\"scale(1 1) rotate(0) translate(4 385)\">\n<polygon fill=\"white\" stroke=\"transparent\" points=\"-4,4 -4,-385 688.5,-385 688.5,4 -4,4\"/>\n<!-- Experiment.Subject -->\n<g id=\"node1\" class=\"node\">\n<title>Experiment.Subject</title>\n<g id=\"a_node1\"><a xlink:title=\"→ Experiment\r→ Subject\r\">\n<polygon fill=\"transparent\" stroke=\"transparent\" points=\"324,-231 221,-231 221,-212 324,-212 324,-231\"/>\n<text text-anchor=\"middle\" x=\"272.5\" y=\"-219\" font-family=\"arial\" font-size=\"10.00\">Experiment.Subject</text>\n</a>\n</g>\n</g>\n<!-- Session -->\n<g id=\"node13\" class=\"node\">\n<title>Session</title>\n<g id=\"a_node13\"><a xlink:title=\"→ Experiment.Subject\rsession_start        \r\">\n<ellipse fill=\"#ff0000\" fill-opacity=\"0.125490\" stroke=\"#ff0000\" stroke-opacity=\"0.125490\" cx=\"243.5\" cy=\"-150.5\" rx=\"13\" ry=\"13\"/>\n<text text-anchor=\"start\" x=\"222\" y=\"-148.4\" font-family=\"arial\" text-decoration=\"underline\" font-size=\"12.00\" fill=\"#7f0000\" fill-opacity=\"0.627451\">Session</text>\n</a>\n</g>\n</g>\n<!-- Experiment.Subject&#45;&gt;Session -->\n<g id=\"edge1\" class=\"edge\">\n<title>Experiment.Subject-&gt;Session</title>\n<path fill=\"none\" stroke=\"#000000\" stroke-width=\"0.75\" stroke-opacity=\"0.250980\" d=\"M268.83,-211.76C263.58,-199.29 253.95,-176.37 248.2,-162.68\"/>\n</g>\n<!-- FoodPatchWheel -->\n<g id=\"node2\" class=\"node\">\n<title>FoodPatchWheel</title>\n<g id=\"a_node2\"><a xlink:title=\"→ Chunk\r→ ExperimentFoodPatch\r------------------------------\rtimestamps           \rangle                \rintensity            \r\">\n<ellipse fill=\"#00007f\" fill-opacity=\"0.250980\" stroke=\"#00007f\" stroke-opacity=\"0.250980\" cx=\"409.5\" cy=\"-150.5\" rx=\"68.25\" ry=\"17.5\"/>\n<text text-anchor=\"middle\" x=\"409.5\" y=\"-147.4\" font-family=\"arial\" font-size=\"12.00\" fill=\"#00007f\" fill-opacity=\"0.627451\">FoodPatchWheel</text>\n</a>\n</g>\n</g>\n<!-- Arena -->\n<g id=\"node3\" class=\"node\">\n<title>Arena</title>\n<g id=\"a_node3\"><a xlink:title=\"arena_name           \r------------------------------\rarena_description=&quot;&quot; \r→ ArenaShape\rarena_x_dim          \rarena_y_dim          \rarena_z_dim=0        \r\">\n<polygon fill=\"#000000\" fill-opacity=\"0.125490\" stroke=\"transparent\" points=\"342,-381 299,-381 299,-346 342,-346 342,-381\"/>\n<text text-anchor=\"start\" x=\"307\" y=\"-362\" font-family=\"arial\" text-decoration=\"underline\" font-size=\"10.00\">Arena</text>\n</a>\n</g>\n</g>\n<!-- Experiment -->\n<g id=\"node8\" class=\"node\">\n<title>Experiment</title>\n<g id=\"a_node8\"><a xlink:title=\"experiment_name      \r------------------------------\rexperiment_start_time \rexperiment_description \r→ Arena\r→ Location\r\">\n<polygon fill=\"#00ff00\" fill-opacity=\"0.188235\" stroke=\"#00ff00\" stroke-opacity=\"0.188235\" points=\"359,-310 282,-310 282,-275 359,-275 359,-310\"/>\n<text text-anchor=\"start\" x=\"290\" y=\"-290.4\" font-family=\"arial\" text-decoration=\"underline\" font-size=\"12.00\" fill=\"darkgreen\">Experiment</text>\n</a>\n</g>\n</g>\n<!-- Arena&#45;&gt;Experiment -->\n<g id=\"edge2\" class=\"edge\">\n<title>Arena-&gt;Experiment</title>\n<path fill=\"none\" stroke=\"#000000\" stroke-width=\"0.75\" stroke-dasharray=\"5,2\" stroke-opacity=\"0.250980\" d=\"M320.5,-345.8C320.5,-334.95 320.5,-320.87 320.5,-310.05\"/>\n</g>\n<!-- SessionSummary -->\n<g id=\"node4\" class=\"node\">\n<title>SessionSummary</title>\n<g id=\"a_node4\"><a xlink:title=\"→ Session\r------------------------------\rtotal_distance_travelled \rtotal_pellet_count   \rtotal_wheel_distance_travelled \rchange_in_weight     \r\">\n<ellipse fill=\"#ff0000\" fill-opacity=\"0.125490\" stroke=\"#ff0000\" stroke-opacity=\"0.125490\" cx=\"218.5\" cy=\"-84\" rx=\"13\" ry=\"13\"/>\n<text text-anchor=\"middle\" x=\"218.5\" y=\"-80.9\" font-family=\"arial\" font-size=\"12.00\" fill=\"#7f0000\" fill-opacity=\"0.627451\">SessionSummary</text>\n</a>\n</g>\n</g>\n<!-- FoodPatch -->\n<g id=\"node5\" class=\"node\">\n<title>FoodPatch</title>\n<g id=\"a_node5\"><a xlink:title=\"food_patch_serial_number \r\">\n<polygon fill=\"#000000\" fill-opacity=\"0.125490\" stroke=\"transparent\" points=\"511,-310 446,-310 446,-275 511,-275 511,-310\"/>\n<text text-anchor=\"start\" x=\"454\" y=\"-291\" font-family=\"arial\" text-decoration=\"underline\" font-size=\"10.00\">FoodPatch</text>\n</a>\n</g>\n</g>\n<!-- ExperimentFoodPatch -->\n<g id=\"node12\" class=\"node\">\n<title>ExperimentFoodPatch</title>\n<g id=\"a_node12\"><a xlink:title=\"→ Experiment\r→ FoodPatch\rfood_patch_install_time \r------------------------------\rfood_patch_description \rwheel_sampling_rate  \r\">\n<polygon fill=\"#00ff00\" fill-opacity=\"0.188235\" stroke=\"#00ff00\" stroke-opacity=\"0.188235\" points=\"546,-239 411,-239 411,-204 546,-204 546,-239\"/>\n<text text-anchor=\"middle\" x=\"478.5\" y=\"-218.4\" font-family=\"arial\" font-size=\"12.00\" fill=\"darkgreen\">ExperimentFoodPatch</text>\n</a>\n</g>\n</g>\n<!-- FoodPatch&#45;&gt;ExperimentFoodPatch -->\n<g id=\"edge3\" class=\"edge\">\n<title>FoodPatch-&gt;ExperimentFoodPatch</title>\n<path fill=\"none\" stroke=\"#000000\" stroke-width=\"0.75\" stroke-opacity=\"0.250980\" d=\"M478.5,-274.8C478.5,-263.95 478.5,-249.87 478.5,-239.05\"/>\n</g>\n<!-- Camera -->\n<g id=\"node6\" class=\"node\">\n<title>Camera</title>\n<g id=\"a_node6\"><a xlink:title=\"camera_serial_number \r\">\n<polygon fill=\"#000000\" fill-opacity=\"0.125490\" stroke=\"transparent\" points=\"650.5,-310 598.5,-310 598.5,-275 650.5,-275 650.5,-310\"/>\n<text text-anchor=\"start\" x=\"606.5\" y=\"-291\" font-family=\"arial\" text-decoration=\"underline\" font-size=\"10.00\">Camera</text>\n</a>\n</g>\n</g>\n<!-- ExperimentCamera -->\n<g id=\"node14\" class=\"node\">\n<title>ExperimentCamera</title>\n<g id=\"a_node14\"><a xlink:title=\"→ Experiment\r→ Camera\rcamera_install_time  \r------------------------------\rcamera_description   \rcamera_sampling_rate \r\">\n<polygon fill=\"#00ff00\" fill-opacity=\"0.188235\" stroke=\"#00ff00\" stroke-opacity=\"0.188235\" points=\"684.5,-239 564.5,-239 564.5,-204 684.5,-204 684.5,-239\"/>\n<text text-anchor=\"start\" x=\"572.5\" y=\"-219.4\" font-family=\"arial\" text-decoration=\"underline\" font-size=\"12.00\" fill=\"darkgreen\">ExperimentCamera</text>\n</a>\n</g>\n</g>\n<!-- Camera&#45;&gt;ExperimentCamera -->\n<g id=\"edge4\" class=\"edge\">\n<title>Camera-&gt;ExperimentCamera</title>\n<path fill=\"none\" stroke=\"#000000\" stroke-width=\"0.75\" stroke-opacity=\"0.250980\" d=\"M624.5,-274.8C624.5,-263.95 624.5,-249.87 624.5,-239.05\"/>\n</g>\n<!-- Chunk -->\n<g id=\"node7\" class=\"node\">\n<title>Chunk</title>\n<g id=\"a_node7\"><a xlink:title=\"→ Experiment\rchunk_start          \r------------------------------\rchunk_end            \r\">\n<polygon fill=\"#00ff00\" fill-opacity=\"0.188235\" stroke=\"#00ff00\" stroke-opacity=\"0.188235\" points=\"393,-239 342,-239 342,-204 393,-204 393,-239\"/>\n<text text-anchor=\"middle\" x=\"367.5\" y=\"-218.4\" font-family=\"arial\" font-size=\"12.00\" fill=\"darkgreen\">Chunk</text>\n</a>\n</g>\n</g>\n<!-- Chunk&#45;&gt;FoodPatchWheel -->\n<g id=\"edge5\" class=\"edge\">\n<title>Chunk-&gt;FoodPatchWheel</title>\n<path fill=\"none\" stroke=\"#000000\" stroke-width=\"0.75\" stroke-opacity=\"0.250980\" d=\"M377.67,-203.8C384.27,-192.95 392.84,-178.87 399.43,-168.05\"/>\n</g>\n<!-- TimeSlice -->\n<g id=\"node9\" class=\"node\">\n<title>TimeSlice</title>\n<g id=\"a_node9\"><a xlink:title=\"→ Session\r→ Chunk\rtime_slice_start     \r------------------------------\rtime_slice_end       \r\">\n<ellipse fill=\"#ff0000\" fill-opacity=\"0.125490\" stroke=\"#ff0000\" stroke-opacity=\"0.125490\" cx=\"326.5\" cy=\"-84\" rx=\"13\" ry=\"13\"/>\n<text text-anchor=\"middle\" x=\"326.5\" y=\"-80.9\" font-family=\"arial\" font-size=\"12.00\" fill=\"#7f0000\" fill-opacity=\"0.627451\">TimeSlice</text>\n</a>\n</g>\n</g>\n<!-- Chunk&#45;&gt;TimeSlice -->\n<g id=\"edge6\" class=\"edge\">\n<title>Chunk-&gt;TimeSlice</title>\n<path fill=\"none\" stroke=\"#000000\" stroke-width=\"0.75\" stroke-opacity=\"0.250980\" d=\"M353.05,-203.74C345.52,-193.98 336.97,-181.06 332.5,-168 324.26,-143.95 324.51,-113.74 325.48,-97.2\"/>\n</g>\n<!-- FoodPatchEvent -->\n<g id=\"node11\" class=\"node\">\n<title>FoodPatchEvent</title>\n<g id=\"a_node11\"><a xlink:title=\"→ Chunk\r→ ExperimentFoodPatch\revent_number         \r------------------------------\revent_time           \r→ EventType\r\">\n<ellipse fill=\"#00007f\" fill-opacity=\"0.250980\" stroke=\"#00007f\" stroke-opacity=\"0.250980\" cx=\"561.5\" cy=\"-150.5\" rx=\"65.75\" ry=\"17.5\"/>\n<text text-anchor=\"start\" x=\"517\" y=\"-148.4\" font-family=\"arial\" text-decoration=\"underline\" font-size=\"12.00\" fill=\"#00007f\" fill-opacity=\"0.627451\">FoodPatchEvent</text>\n</a>\n</g>\n</g>\n<!-- Chunk&#45;&gt;FoodPatchEvent -->\n<g id=\"edge7\" class=\"edge\">\n<title>Chunk-&gt;FoodPatchEvent</title>\n<path fill=\"none\" stroke=\"#000000\" stroke-width=\"0.75\" stroke-opacity=\"0.250980\" d=\"M393.33,-207.52C396.06,-206.28 398.82,-205.08 401.5,-204 440.39,-188.27 485.95,-173.68 518.49,-163.89\"/>\n</g>\n<!-- Experiment&#45;&gt;Experiment.Subject -->\n<g id=\"edge8\" class=\"edge\">\n<title>Experiment-&gt;Experiment.Subject</title>\n<path fill=\"none\" stroke=\"#000000\" stroke-width=\"0.75\" stroke-opacity=\"0.250980\" d=\"M308.88,-274.8C299.34,-261.08 286.19,-242.19 278.6,-231.27\"/>\n</g>\n<!-- Experiment&#45;&gt;Chunk -->\n<g id=\"edge9\" class=\"edge\">\n<title>Experiment-&gt;Chunk</title>\n<path fill=\"none\" stroke=\"#000000\" stroke-width=\"0.75\" stroke-opacity=\"0.250980\" d=\"M331.88,-274.8C339.27,-263.95 348.86,-249.87 356.23,-239.05\"/>\n</g>\n<!-- Experiment&#45;&gt;ExperimentFoodPatch -->\n<g id=\"edge10\" class=\"edge\">\n<title>Experiment-&gt;ExperimentFoodPatch</title>\n<path fill=\"none\" stroke=\"#000000\" stroke-width=\"0.75\" stroke-opacity=\"0.250980\" d=\"M358.34,-274.97C383.27,-264.09 415.77,-249.89 440.69,-239.01\"/>\n</g>\n<!-- Experiment&#45;&gt;ExperimentCamera -->\n<g id=\"edge11\" class=\"edge\">\n<title>Experiment-&gt;ExperimentCamera</title>\n<path fill=\"none\" stroke=\"#000000\" stroke-width=\"0.75\" stroke-opacity=\"0.250980\" d=\"M359.21,-283.04C405.83,-272.8 486.46,-254.96 555.5,-239 558.38,-238.33 561.33,-237.65 564.3,-236.95\"/>\n</g>\n<!-- SubjectPosition -->\n<g id=\"node15\" class=\"node\">\n<title>SubjectPosition</title>\n<g id=\"a_node15\"><a xlink:title=\"→ TimeSlice\r------------------------------\rtimestamps           \rposition_x           \rposition_y           \rposition_z=null      \rarea=null            \rspeed=null           \r\">\n<ellipse fill=\"#00007f\" fill-opacity=\"0.250980\" stroke=\"#00007f\" stroke-opacity=\"0.250980\" cx=\"326.5\" cy=\"-17.5\" rx=\"61.75\" ry=\"17.5\"/>\n<text text-anchor=\"middle\" x=\"326.5\" y=\"-14.4\" font-family=\"arial\" font-size=\"12.00\" fill=\"#00007f\" fill-opacity=\"0.627451\">SubjectPosition</text>\n</a>\n</g>\n</g>\n<!-- TimeSlice&#45;&gt;SubjectPosition -->\n<g id=\"edge12\" class=\"edge\">\n<title>TimeSlice-&gt;SubjectPosition</title>\n<path fill=\"none\" stroke=\"#000000\" stroke-width=\"2\" stroke-opacity=\"0.250980\" d=\"M326.5,-70.87C326.5,-60.8 326.5,-46.37 326.5,-35.2\"/>\n</g>\n<!-- SessionTimeDistribution -->\n<g id=\"node10\" class=\"node\">\n<title>SessionTimeDistribution</title>\n<g id=\"a_node10\"><a xlink:title=\"→ Session\r------------------------------\rtime_fraction_in_corridor \rin_corridor          \rtime_fraction_in_arena \rin_arena             \r\">\n<ellipse fill=\"#ff0000\" fill-opacity=\"0.125490\" stroke=\"#ff0000\" stroke-opacity=\"0.125490\" cx=\"72.5\" cy=\"-84\" rx=\"13\" ry=\"13\"/>\n<text text-anchor=\"middle\" x=\"72.5\" y=\"-80.9\" font-family=\"arial\" font-size=\"12.00\" fill=\"#7f0000\" fill-opacity=\"0.627451\">SessionTimeDistribution</text>\n</a>\n</g>\n</g>\n<!-- ExperimentFoodPatch&#45;&gt;FoodPatchWheel -->\n<g id=\"edge13\" class=\"edge\">\n<title>ExperimentFoodPatch-&gt;FoodPatchWheel</title>\n<path fill=\"none\" stroke=\"#000000\" stroke-width=\"0.75\" stroke-opacity=\"0.250980\" d=\"M461.8,-203.8C450.79,-192.79 436.45,-178.45 425.57,-167.57\"/>\n</g>\n<!-- ExperimentFoodPatch&#45;&gt;FoodPatchEvent -->\n<g id=\"edge14\" class=\"edge\">\n<title>ExperimentFoodPatch-&gt;FoodPatchEvent</title>\n<path fill=\"none\" stroke=\"#000000\" stroke-width=\"0.75\" stroke-opacity=\"0.250980\" d=\"M498.59,-203.8C511.93,-192.71 529.33,-178.24 542.45,-167.34\"/>\n</g>\n<!-- Session&#45;&gt;SessionSummary -->\n<g id=\"edge15\" class=\"edge\">\n<title>Session-&gt;SessionSummary</title>\n<path fill=\"none\" stroke=\"#000000\" stroke-width=\"2\" stroke-opacity=\"0.250980\" d=\"M239.03,-137.97C234.48,-126.23 227.47,-108.14 222.93,-96.43\"/>\n</g>\n<!-- Session&#45;&gt;TimeSlice -->\n<g id=\"edge16\" class=\"edge\">\n<title>Session-&gt;TimeSlice</title>\n<path fill=\"none\" stroke=\"#000000\" stroke-width=\"0.75\" stroke-opacity=\"0.250980\" d=\"M253.35,-141.85C269.32,-129.43 300.7,-105.05 316.67,-92.64\"/>\n</g>\n<!-- Session&#45;&gt;SessionTimeDistribution -->\n<g id=\"edge17\" class=\"edge\">\n<title>Session-&gt;SessionTimeDistribution</title>\n<path fill=\"none\" stroke=\"#000000\" stroke-width=\"2\" stroke-opacity=\"0.250980\" d=\"M231.48,-144.96C200.15,-133.15 116.3,-101.52 84.74,-89.62\"/>\n</g>\n</g>\n</svg>"
     },
     "metadata": {},
     "execution_count": 5
    }
   ],
   "metadata": {}
  },
  {
   "cell_type": "code",
   "execution_count": 6,
   "source": [
    "diagram.save(\"aeon/dj_pipeline/docs/notebooks/diagram.svg\")"
   ],
   "outputs": [],
   "metadata": {}
  }
 ],
 "metadata": {
  "kernelspec": {
   "name": "python3",
   "display_name": "Python 3.9.6 64-bit ('aeon_env': conda)"
  },
  "language_info": {
   "codemirror_mode": {
    "name": "ipython",
    "version": 3
   },
   "file_extension": ".py",
   "mimetype": "text/x-python",
   "name": "python",
   "nbconvert_exporter": "python",
   "pygments_lexer": "ipython3",
   "version": "3.9.6"
  },
  "interpreter": {
   "hash": "7ed711d4bdc79410f4b0af3133fc7149926181ad66d1f6e8bc74e4f5ae156023"
  }
 },
 "nbformat": 4,
 "nbformat_minor": 5
}