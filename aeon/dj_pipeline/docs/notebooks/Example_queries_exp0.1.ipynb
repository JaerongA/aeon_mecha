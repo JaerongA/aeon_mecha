{
 "cells": [
  {
   "cell_type": "code",
   "execution_count": null,
   "outputs": [],
   "source": [
    "import datajoint as dj\n",
    "import numpy as np\n",
    "import pandas as pd\n",
    "import matplotlib.pyplot as plt\n",
    "import datetime"
   ],
   "metadata": {
    "collapsed": false,
    "pycharm": {
     "name": "#%%\n"
    }
   }
  },
  {
   "cell_type": "code",
   "execution_count": null,
   "outputs": [],
   "source": [
    "dj.config['database.host'] = 'aeon-db'\n",
    "dj.conn()"
   ],
   "metadata": {
    "collapsed": false,
    "pycharm": {
     "name": "#%%\n"
    }
   }
  },
  {
   "cell_type": "code",
   "execution_count": null,
   "outputs": [],
   "source": [
    "dj.config['display.limit'] = 10\n",
    "dj.config['display.width'] = 30"
   ],
   "metadata": {
    "collapsed": false,
    "pycharm": {
     "name": "#%%\n"
    }
   }
  },
  {
   "cell_type": "code",
   "execution_count": null,
   "outputs": [],
   "source": [
    "subject = dj.create_virtual_module('subject', 'aeon_test_subject')\n",
    "lab = dj.create_virtual_module('lab', 'aeon_test_lab')\n",
    "experiment = dj.create_virtual_module('experiment', 'aeon_test_experiment')\n",
    "tracking = dj.create_virtual_module('tracking', 'aeon_test_tracking')"
   ],
   "metadata": {
    "collapsed": false,
    "pycharm": {
     "name": "#%%\n"
    }
   }
  },
  {
   "cell_type": "code",
   "execution_count": null,
   "outputs": [],
   "source": [
    "# Retrieve and plot subject's trajectory in response to pellet trigger events\n",
    "\n",
    "# -- subject of interest\n",
    "subject_key = {'subject': 'BAA-1099791'}\n",
    "\n",
    "# -- all epochs this subject is in the arena\n",
    "subject_epochs = experiment.Epoch.Subject & subject_key\n",
    "\n",
    "# epoch starts/ends\n",
    "epoch_starts, epoch_ends = subject_epochs.fetch('epoch_start', 'epoch_end')"
   ],
   "metadata": {
    "collapsed": false,
    "pycharm": {
     "name": "#%%\n"
    }
   }
  },
  {
   "cell_type": "code",
   "execution_count": null,
   "outputs": [],
   "source": [
    "# subject's position data in the epochs\n",
    "timestamps, position_x, position_y, area = (tracking.SubjectPosition & subject_epochs).fetch(\n",
    "    'timestamps', 'position_x', 'position_y', 'area', order_by='epoch_start')\n",
    "\n",
    "# stack and structure in pandas DataFrame\n",
    "position = pd.DataFrame(dict(x=np.hstack(position_x),\n",
    "                             y=np.hstack(position_y),\n",
    "                             area=np.hstack(area)),\n",
    "                        index=np.hstack(timestamps))\n",
    "\n",
    "# remove position data where area >= 2000\n",
    "position = position[position.area < 2000]"
   ],
   "metadata": {
    "collapsed": false,
    "pycharm": {
     "name": "#%%\n"
    }
   }
  },
  {
   "cell_type": "code",
   "execution_count": null,
   "outputs": [],
   "source": [
    "# -- all TriggerPellet events from patch\n",
    "patch_key = (experiment.ExperimentFoodPatch - experiment.ExperimentFoodPatch.RemovalTime\n",
    "             & 'food_patch_description = \"Patch1\"').fetch1('KEY')\n",
    "\n",
    "patch_events = (experiment.FoodPatchEvent * experiment.EventType\n",
    "                * experiment.ExperimentFoodPatch\n",
    "                & patch_key & 'event_type = \"TriggerPellet\"')\n",
    "\n",
    "# -- all TriggerPellet events from patch during times this animal is in the arena\n",
    "time_restriction = [f'event_time BETWEEN \"{s}\" AND \"{e}\"'\n",
    "                    for s, e in zip(epoch_starts, epoch_ends)]\n",
    "patch_subject_events = patch_events & time_restriction\n",
    "patch_subject_events_times = patch_subject_events.fetch('event_time', order_by='event_time')"
   ],
   "metadata": {
    "collapsed": false,
    "pycharm": {
     "name": "#%%\n"
    }
   }
  },
  {
   "cell_type": "code",
   "execution_count": null,
   "outputs": [],
   "source": [
    "patches_x, patches_y = (experiment.ExperimentFoodPatch * experiment.ExperimentFoodPatch.Position\n",
    "                    - experiment.ExperimentFoodPatch.RemovalTime).fetch(\n",
    "    'food_patch_position_x', 'food_patch_position_y')\n"
   ],
   "metadata": {
    "collapsed": false,
    "pycharm": {
     "name": "#%% Food patch position\n"
    }
   }
  },
  {
   "cell_type": "code",
   "execution_count": null,
   "outputs": [],
   "source": [
    "# plot subject's path and pellet-event aligned path\n",
    "\n",
    "fig, ax = plt.subplots(1, 1, figsize=(16, 16))\n",
    "ax.invert_yaxis()\n",
    "ax.plot(position.x, position.y, 'k', alpha=0.2)\n",
    "for x, y in zip(patches_x, patches_y):\n",
    "    ax.plot(x, y, '.r', markersize=50)\n",
    "\n",
    "for trial in patch_subject_events_times:                   # for each pellet delivery\n",
    "    before = trial - datetime.timedelta(seconds=15)         # get the previous 15 seconds\n",
    "    path = position[before:trial]                           # get position data in the time before pellet delivery\n",
    "    ax.plot(path.x, path.y)                                 # plot path traces preceding pellet delivery\n"
   ],
   "metadata": {
    "collapsed": false,
    "pycharm": {
     "name": "#%%\n"
    }
   }
  },
  {
   "cell_type": "code",
   "execution_count": null,
   "outputs": [],
   "source": [
    "# epochs contain the events\n",
    "event_time_restriction = [f'\"{event}\" BETWEEN epoch_start AND epoch_end'\n",
    "                    for event in patch_subject_events_times]\n",
    "event_subject_epochs = subject_epochs & event_time_restriction\n",
    "\n",
    "    "
   ],
   "metadata": {
    "collapsed": false,
    "pycharm": {
     "name": "#%%\n"
    }
   }
  }
 ],
 "metadata": {
  "kernelspec": {
   "display_name": "Python 3",
   "language": "python",
   "name": "python3"
  },
  "language_info": {
   "codemirror_mode": {
    "name": "ipython",
    "version": 2
   },
   "file_extension": ".py",
   "mimetype": "text/x-python",
   "name": "python",
   "nbconvert_exporter": "python",
   "pygments_lexer": "ipython2",
   "version": "2.7.6"
  }
 },
 "nbformat": 4,
 "nbformat_minor": 0
}